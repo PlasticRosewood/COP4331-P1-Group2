{
  "nbformat": 4,
  "nbformat_minor": 0,
  "metadata": {
    "colab": {
      "provenance": [],
      "gpuType": "T4",
      "include_colab_link": true
    },
    "kernelspec": {
      "name": "python3",
      "display_name": "Python 3"
    },
    "language_info": {
      "name": "python"
    },
    "accelerator": "GPU"
  },
  "cells": [
    {
      "cell_type": "markdown",
      "metadata": {
        "id": "view-in-github",
        "colab_type": "text"
      },
      "source": [
        "<a href=\"https://colab.research.google.com/github/PlasticRosewood/COP4331-P1-Group2/blob/main/Music_Genre_RNN_vRNN_Functions.ipynb\" target=\"_parent\"><img src=\"https://colab.research.google.com/assets/colab-badge.svg\" alt=\"Open In Colab\"/></a>"
      ]
    },
    {
      "cell_type": "markdown",
      "source": [
        "Import Libraries"
      ],
      "metadata": {
        "id": "YF1ARFfa1LgB"
      }
    },
    {
      "cell_type": "code",
      "execution_count": 25,
      "metadata": {
        "id": "QbIVfCjvRCHT"
      },
      "outputs": [],
      "source": [
        "import numpy as np\n",
        "import librosa\n",
        "import matplotlib.pyplot as plt\n",
        "import pandas as pd"
      ]
    },
    {
      "cell_type": "markdown",
      "source": [
        "Parse Music Data"
      ],
      "metadata": {
        "id": "OHhHMInX1g28"
      }
    },
    {
      "cell_type": "code",
      "source": [
        "# Import CSV File\n",
        "df = pd.read_csv(\"features_3_sec.csv\")\n",
        "\n",
        "# Seperate columns into features\n",
        "chroma_mean = df[\"chroma_stft_mean\"].to_numpy()\n",
        "chroma_var = df[\"chroma_stft_var\"].to_numpy()\n",
        "rms_mean = df[\"rms_mean\"].to_numpy()\n",
        "rms_var = df[\"rms_var\"].to_numpy()\n",
        "scm = df[\"spectral_centroid_mean\"].to_numpy()\n",
        "scv = df[\"spectral_centroid_var\"].to_numpy()\n",
        "sbm = df[\"spectral_bandwidth_mean\"].to_numpy()\n",
        "sbv = df[\"spectral_bandwidth_var\"].to_numpy()\n",
        "\n",
        "# Convert label from string to int\n",
        "map = {}\n",
        "y = []\n",
        "for label in df['label']:\n",
        "  if label not in map:\n",
        "    map.update({label: len(map)})\n",
        "  y.append(map.get(label))"
      ],
      "metadata": {
        "id": "dEqjL07OAjbB"
      },
      "execution_count": 26,
      "outputs": []
    },
    {
      "cell_type": "markdown",
      "source": [
        "Normalize Music Data"
      ],
      "metadata": {
        "id": "MGjKXkbs1ygC"
      }
    },
    {
      "cell_type": "code",
      "source": [
        "features = [chroma_mean, chroma_var, rms_mean, rms_var, scm, scv, sbm, sbv]\n",
        "\n",
        "# normalize between -1 and 1\n",
        "def normalize_range(arr):\n",
        "  arr_min = arr.min()\n",
        "  arr_max = arr.max()\n",
        "  for i in range(len(arr)):\n",
        "    arr[i] = (2 * (arr[i] - arr_min) / (arr_max - arr_min)) -1\n",
        "\n",
        "# normalize all data\n",
        "for x in features:\n",
        "  normalize_range(x)"
      ],
      "metadata": {
        "id": "DeoJnhCy11hN"
      },
      "execution_count": 30,
      "outputs": []
    },
    {
      "cell_type": "markdown",
      "source": [
        "Set up RNN"
      ],
      "metadata": {
        "id": "JW1Qrw-X12BM"
      }
    },
    {
      "cell_type": "markdown",
      "source": [
        "Initializing parameters and weight"
      ],
      "metadata": {
        "id": "G_SQI9Hj2Lh2"
      }
    },
    {
      "cell_type": "code",
      "source": [
        "input_size = 8 # number of features\n",
        "hidden_size = 5 # (2/3 input size) + output size\n",
        "output_size = 2 # number of genres to detect (subject to change)\n",
        "\n",
        "# INITIALIZE WEIGHTS\n",
        "# initalize weights for inputs to hidden layer\n",
        "u = np.random.rand(input_size, hidden_size)\n",
        "\n",
        "# initialize weights for hidden layer to hidden layer\n",
        "w = np.random.rand(hidden_size, hidden_size)\n",
        "\n",
        "# initialize weights for hidden layer to output layer\n",
        "v = np.random.rand(output_size, hidden_size)\n",
        "\n",
        "# INITIALIZE BIASES\n",
        "# initialize bias for inputs to hidden layer\n",
        "b_ih = np.random.rand(hidden_size)\n",
        "\n",
        "# initialize bias for hidden layer to hidden layer\n",
        "b_hh = np.random.rand(hidden_size)\n",
        "\n",
        "# initialize bias for hidden layer to output\n",
        "b_ho = np.random.rand(output_size)"
      ],
      "metadata": {
        "id": "Hm6l7V8W14v2"
      },
      "execution_count": 50,
      "outputs": []
    },
    {
      "cell_type": "markdown",
      "source": [
        "Get all features from a sample"
      ],
      "metadata": {
        "id": "RK4EYdUDfHHB"
      }
    },
    {
      "cell_type": "code",
      "source": [
        "\"\"\"\n",
        "Given an index of test data, return all features for that sample\n",
        "\"\"\"\n",
        "def get_features(sample_index):\n",
        "  return_arr = [x[sample_index] for x in features]\n",
        "  return return_arr\n",
        "\n",
        "print(get_features(0))\n"
      ],
      "metadata": {
        "colab": {
          "base_uri": "https://localhost:8080/"
        },
        "id": "22MItsutfL4k",
        "outputId": "5ae64934-3571-41af-ce10-54be59de24da"
      },
      "execution_count": 39,
      "outputs": [
        {
          "output_type": "stream",
          "name": "stdout",
          "text": [
            "[-0.28920239345338317, 0.43351398236789285, -0.4137334798119917, -0.784090682893563, -0.47565414285940366, -0.9304322634294081, -0.08159019673048362, -0.8117405004376876]\n"
          ]
        }
      ]
    },
    {
      "cell_type": "markdown",
      "source": [
        "Recurrence Neural Network (Forward)"
      ],
      "metadata": {
        "id": "GZua-VuJXpPC"
      }
    },
    {
      "cell_type": "code",
      "source": [
        "\"\"\"\n",
        "This function does 1 iteration of a recurrence neural network training model\n",
        "it takes in two arguments:\n",
        "   mem_h:\n",
        "     The current state of the hidden layer either calculated in previous rounds\n",
        "       or defined as h_-1\n",
        "\n",
        "   features_x:\n",
        "     The features of the current audio sample. This is assumed to be from the\n",
        "       list of 8 features defined earlier. This will be used in calculating the\n",
        "       hidden layer state.\n",
        "\"\"\"\n",
        "def RNN(mem_h, features_x):\n",
        "  # update state of memory\n",
        "  mem_h = np.add(\n",
        "      np.add(np.dot(w, mem_h), b_hh),\n",
        "      np.add(np.dot(features_x, u), b_ih)\n",
        "  )\n",
        "\n",
        "  # calculate output Y\n",
        "  # this will only be used on the final iteration of RNN\n",
        "  output_y = np.add(\n",
        "      np.dot(v, mem_h),\n",
        "      b_ho\n",
        "  )\n",
        "\n",
        "  return mem_h, output_y\n"
      ],
      "metadata": {
        "id": "ys1YTx5ZSGDQ"
      },
      "execution_count": 63,
      "outputs": []
    },
    {
      "cell_type": "markdown",
      "source": [
        "RNN Wrapper Function"
      ],
      "metadata": {
        "id": "QUWUussraxO_"
      }
    },
    {
      "cell_type": "code",
      "source": [
        "\"\"\"\n",
        "This function takes in a number of rounds to perform (num_rounds)\n",
        "and runs that many rounds, keeping track of the output and hidden layer state\n",
        "after each round. It returns these two arrays\n",
        "\"\"\"\n",
        "def RNN_Wrapper(num_rounds, target):\n",
        "  # initialize hidden memory with identity matrix\n",
        "  init_mem_h = np.ones(hidden_size)\n",
        "\n",
        "  # define containers for storing state\n",
        "  hidden_states = np.zeros((num_rounds + 1, hidden_size))\n",
        "  hidden_states[0] = init_mem_h # initialize with filler value\n",
        "\n",
        "  outputs = np.zeros((num_rounds, output_size))\n",
        "\n",
        "  target_features = get_features(target)\n",
        "\n",
        "  # loop through each round\n",
        "  for i in range(num_rounds):\n",
        "    print('Round: ' + str(i))\n",
        "    hidden_states[i + 1], outputs[i] = RNN(hidden_states[i], target_features)\n",
        "    print('output: ', outputs[i])\n",
        "    print('hidden state: ', hidden_states[i+1])\n",
        "\n",
        "  return hidden_states, outputs"
      ],
      "metadata": {
        "id": "Iz_51tMlazgY"
      },
      "execution_count": 70,
      "outputs": []
    }
  ]
}