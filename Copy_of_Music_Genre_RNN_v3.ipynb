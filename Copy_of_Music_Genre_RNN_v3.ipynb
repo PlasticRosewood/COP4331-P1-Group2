{
  "nbformat": 4,
  "nbformat_minor": 0,
  "metadata": {
    "colab": {
      "provenance": [],
      "gpuType": "T4",
      "include_colab_link": true
    },
    "kernelspec": {
      "name": "python3",
      "display_name": "Python 3"
    },
    "language_info": {
      "name": "python"
    },
    "accelerator": "GPU"
  },
  "cells": [
    {
      "cell_type": "markdown",
      "metadata": {
        "id": "view-in-github",
        "colab_type": "text"
      },
      "source": [
        "<a href=\"https://colab.research.google.com/github/PlasticRosewood/COP4331-P1-Group2/blob/main/Copy_of_Music_Genre_RNN_v3.ipynb\" target=\"_parent\"><img src=\"https://colab.research.google.com/assets/colab-badge.svg\" alt=\"Open In Colab\"/></a>"
      ]
    },
    {
      "cell_type": "markdown",
      "source": [
        "Import Libraries"
      ],
      "metadata": {
        "id": "YF1ARFfa1LgB"
      }
    },
    {
      "cell_type": "code",
      "execution_count": 25,
      "metadata": {
        "id": "QbIVfCjvRCHT"
      },
      "outputs": [],
      "source": [
        "import numpy as np\n",
        "import librosa\n",
        "import matplotlib.pyplot as plt\n",
        "import pandas as pd"
      ]
    },
    {
      "cell_type": "markdown",
      "source": [
        "Parse Music Data"
      ],
      "metadata": {
        "id": "OHhHMInX1g28"
      }
    },
    {
      "cell_type": "code",
      "source": [
        "# Import CSV File\n",
        "df = pd.read_csv(\"features_3_sec.csv\")\n",
        "\n",
        "# Seperate columns into features\n",
        "chroma_mean = df[\"chroma_stft_mean\"].to_numpy()\n",
        "chroma_var = df[\"chroma_stft_var\"].to_numpy()\n",
        "rms_mean = df[\"rms_mean\"].to_numpy()\n",
        "rms_var = df[\"rms_var\"].to_numpy()\n",
        "scm = df[\"spectral_centroid_mean\"].to_numpy()\n",
        "scv = df[\"spectral_centroid_var\"].to_numpy()\n",
        "sbm = df[\"spectral_bandwidth_mean\"].to_numpy()\n",
        "sbv = df[\"spectral_bandwidth_var\"].to_numpy()\n",
        "\n",
        "# Convert label from string to int\n",
        "map = {}\n",
        "y = []\n",
        "for label in df['label']:\n",
        "  if label not in map:\n",
        "    map.update({label: len(map)})\n",
        "  y.append(map.get(label))"
      ],
      "metadata": {
        "id": "dEqjL07OAjbB"
      },
      "execution_count": 26,
      "outputs": []
    },
    {
      "cell_type": "markdown",
      "source": [
        "Normalize Music Data"
      ],
      "metadata": {
        "id": "MGjKXkbs1ygC"
      }
    },
    {
      "cell_type": "code",
      "source": [
        "features = [chroma_mean, chroma_var, rms_mean, rms_var, scm, scv, sbm, sbv]\n",
        "\n",
        "# normalize between -1 and 1\n",
        "def normalize_range(arr):\n",
        "  arr_min = arr.min()\n",
        "  arr_max = arr.max()\n",
        "  for i in range(len(arr)):\n",
        "    arr[i] = (2 * (arr[i] - arr_min) / (arr_max - arr_min)) -1\n",
        "\n",
        "# normalize all data\n",
        "for x in features:\n",
        "  normalize_range(x)"
      ],
      "metadata": {
        "id": "DeoJnhCy11hN"
      },
      "execution_count": 30,
      "outputs": []
    },
    {
      "cell_type": "markdown",
      "source": [
        "Set up RNN"
      ],
      "metadata": {
        "id": "JW1Qrw-X12BM"
      }
    },
    {
      "cell_type": "markdown",
      "source": [
        "Initializing parameters and weight"
      ],
      "metadata": {
        "id": "G_SQI9Hj2Lh2"
      }
    },
    {
      "cell_type": "code",
      "source": [
        "input_size = 8 # number of features\n",
        "hidden_size = 5 # (2/3 input size) + output size\n",
        "output_size = 2 # number of genres to detect (subject to change)\n",
        "\n",
        "# INITIALIZE WEIGHTS\n",
        "# initalize weights for inputs to hidden layer\n",
        "u = np.random.rand(input_size, hidden_size)\n",
        "\n",
        "# initialize weights for hidden layer to hidden layer\n",
        "w = np.random.rand(hidden_size, hidden_size)\n",
        "\n",
        "# initialize weights for hidden layer to output layer\n",
        "v = np.random.rand(output_size, hidden_size)\n",
        "\n",
        "# INITIALIZE BIASES\n",
        "# initialize bias for inputs to hidden layer\n",
        "b_ih = np.random.rand(hidden_size)\n",
        "\n",
        "# initialize bias for hidden layer to hidden layer\n",
        "b_hh = np.random.rand(hidden_size)\n",
        "\n",
        "# initialize bias for hidden layer to output\n",
        "b_ho = np.random.rand(output_size)"
      ],
      "metadata": {
        "id": "Hm6l7V8W14v2"
      },
      "execution_count": 50,
      "outputs": []
    },
    {
      "cell_type": "markdown",
      "source": [
        "Get all features from a sample"
      ],
      "metadata": {
        "id": "RK4EYdUDfHHB"
      }
    },
    {
      "cell_type": "code",
      "source": [
        "\"\"\"\n",
        "Given an index of test data, return all features for that sample\n",
        "\"\"\"\n",
        "def get_features(sample_index):\n",
        "  return_arr = [x[sample_index] for x in features]\n",
        "  return return_arr\n",
        "\n",
        "print(get_features(0))\n"
      ],
      "metadata": {
        "colab": {
          "base_uri": "https://localhost:8080/"
        },
        "id": "22MItsutfL4k",
        "outputId": "5ae64934-3571-41af-ce10-54be59de24da"
      },
      "execution_count": 39,
      "outputs": [
        {
          "output_type": "stream",
          "name": "stdout",
          "text": [
            "[-0.28920239345338317, 0.43351398236789285, -0.4137334798119917, -0.784090682893563, -0.47565414285940366, -0.9304322634294081, -0.08159019673048362, -0.8117405004376876]\n"
          ]
        }
      ]
    },
    {
      "cell_type": "markdown",
      "source": [
        "Recurrence Neural Network (Forward)"
      ],
      "metadata": {
        "id": "GZua-VuJXpPC"
      }
    },
    {
      "cell_type": "code",
      "source": [
        "\"\"\"\n",
        "This function does 1 iteration of a recurrence neural network training model\n",
        "it takes in two arguments:\n",
        "   mem_h:\n",
        "     The current state of the hidden layer either calculated in previous rounds\n",
        "       or defined as h_-1\n",
        "\n",
        "   features_x:\n",
        "     The features of the current audio sample. This is assumed to be from the\n",
        "       list of 8 features defined earlier. This will be used in calculating the\n",
        "       hidden layer state.\n",
        "\"\"\"\n",
        "def RNN(mem_h, features_x):\n",
        "  # update state of memory\n",
        "  mem_h = np.add(\n",
        "      np.add(np.dot(w, mem_h), b_hh),\n",
        "      np.add(np.dot(features_x, u), b_ih)\n",
        "  )\n",
        "\n",
        "  # calculate output Y\n",
        "  # this will only be used on the final iteration of RNN\n",
        "  output_y = np.add(\n",
        "      np.dot(v, mem_h),\n",
        "      b_ho\n",
        "  )\n",
        "\n",
        "  return mem_h, output_y\n"
      ],
      "metadata": {
        "id": "ys1YTx5ZSGDQ"
      },
      "execution_count": 63,
      "outputs": []
    },
    {
      "cell_type": "markdown",
      "source": [
        "RNN Wrapper Function"
      ],
      "metadata": {
        "id": "QUWUussraxO_"
      }
    },
    {
      "cell_type": "code",
      "source": [
        "\"\"\"\n",
        "Target specifies a 30 second sample to pick. When selecting a target, the number\n",
        "is multiplied by 10 and iterated upon\n",
        "\"\"\"\n",
        "def RNN_Wrapper(target):\n",
        "\n",
        "  # initialize hidden memory with identity matrix\n",
        "  init_mem_h = np.ones(hidden_size)\n",
        "\n",
        "  # define containers for storing state\n",
        "  hidden_states = np.zeros((10 + 1, hidden_size))\n",
        "  hidden_states[0] = init_mem_h # initialize with filler value\n",
        "\n",
        "  outputs = np.zeros((10, output_size))\n",
        "\n",
        "  # loop through each round\n",
        "  for i in range(10):\n",
        "    print('Round: ' + str(i))\n",
        "    true_target = (target * 10) + i\n",
        "    hidden_states[i + 1], outputs[i] = RNN(hidden_states[i], get_features(true_target))\n",
        "    print('output: ', outputs[i])\n",
        "    print('hidden state: ', hidden_states[i+1])\n",
        "\n",
        "  return hidden_states, outputs\n",
        "\n",
        "RNN_Wrapper(0)"
      ],
      "metadata": {
        "colab": {
          "base_uri": "https://localhost:8080/"
        },
        "id": "Iz_51tMlazgY",
        "outputId": "57eeb5de-e161-4403-b7dc-7406c167fd99"
      },
      "execution_count": 76,
      "outputs": [
        {
          "output_type": "stream",
          "name": "stdout",
          "text": [
            "Round: 0\n",
            "output:  [3.20587652 6.75437116]\n",
            "hidden state:  [1.83535773 3.50508337 1.6813549  0.35083865 2.60633849]\n",
            "Round: 1\n",
            "output:  [ 7.4121341  13.48085612]\n",
            "hidden state:  [4.1820154  5.73538157 4.17552361 2.10389585 4.96880255]\n",
            "Round: 2\n",
            "output:  [18.44667552 31.88192006]\n",
            "hidden state:  [10.63440556 13.36175452 10.81053301  6.25895289 10.92067151]\n",
            "Round: 3\n",
            "output:  [47.4734642  79.93072221]\n",
            "hidden state:  [27.67281164 33.19994384 27.87505719 17.30373325 26.63948603]\n",
            "Round: 4\n",
            "output:  [124.08379508 206.74323819]\n",
            "hidden state:  [72.56860378 85.28976691 72.89154072 46.49487768 68.31565309]\n",
            "Round: 5\n",
            "output:  [327.07155768 542.64297997]\n",
            "hidden state:  [191.42621269 223.19187635 192.37190069 123.95115164 178.5274501 ]\n",
            "Round: 6\n",
            "output:  [ 863.28868504 1430.29360376]\n",
            "hidden state:  [505.4918437  587.98211551 507.8578673  328.38840556 469.89062386]\n",
            "Round: 7\n",
            "output:  [2279.95283318 3775.35407529]\n",
            "hidden state:  [1335.28343046 1551.47410975 1341.22574178  868.48314574 1239.80938283]\n",
            "Round: 8\n",
            "output:  [6023.78310167 9972.54102629]\n",
            "hidden state:  [3528.03346595 4097.54004793 3543.80889368 2295.95250663 3274.2635808 ]\n",
            "Round: 9\n",
            "output:  [15916.78874471 26348.63501166]\n",
            "hidden state:  [ 9322.49505958 10825.91372652  9364.15946884  6067.85032099\n",
            "  8650.06124201]\n"
          ]
        },
        {
          "output_type": "execute_result",
          "data": {
            "text/plain": [
              "(array([[1.00000000e+00, 1.00000000e+00, 1.00000000e+00, 1.00000000e+00,\n",
              "         1.00000000e+00],\n",
              "        [1.83535773e+00, 3.50508337e+00, 1.68135490e+00, 3.50838649e-01,\n",
              "         2.60633849e+00],\n",
              "        [4.18201540e+00, 5.73538157e+00, 4.17552361e+00, 2.10389585e+00,\n",
              "         4.96880255e+00],\n",
              "        [1.06344056e+01, 1.33617545e+01, 1.08105330e+01, 6.25895289e+00,\n",
              "         1.09206715e+01],\n",
              "        [2.76728116e+01, 3.31999438e+01, 2.78750572e+01, 1.73037333e+01,\n",
              "         2.66394860e+01],\n",
              "        [7.25686038e+01, 8.52897669e+01, 7.28915407e+01, 4.64948777e+01,\n",
              "         6.83156531e+01],\n",
              "        [1.91426213e+02, 2.23191876e+02, 1.92371901e+02, 1.23951152e+02,\n",
              "         1.78527450e+02],\n",
              "        [5.05491844e+02, 5.87982116e+02, 5.07857867e+02, 3.28388406e+02,\n",
              "         4.69890624e+02],\n",
              "        [1.33528343e+03, 1.55147411e+03, 1.34122574e+03, 8.68483146e+02,\n",
              "         1.23980938e+03],\n",
              "        [3.52803347e+03, 4.09754005e+03, 3.54380889e+03, 2.29595251e+03,\n",
              "         3.27426358e+03],\n",
              "        [9.32249506e+03, 1.08259137e+04, 9.36415947e+03, 6.06785032e+03,\n",
              "         8.65006124e+03]]),\n",
              " array([[3.20587652e+00, 6.75437116e+00],\n",
              "        [7.41213410e+00, 1.34808561e+01],\n",
              "        [1.84466755e+01, 3.18819201e+01],\n",
              "        [4.74734642e+01, 7.99307222e+01],\n",
              "        [1.24083795e+02, 2.06743238e+02],\n",
              "        [3.27071558e+02, 5.42642980e+02],\n",
              "        [8.63288685e+02, 1.43029360e+03],\n",
              "        [2.27995283e+03, 3.77535408e+03],\n",
              "        [6.02378310e+03, 9.97254103e+03],\n",
              "        [1.59167887e+04, 2.63486350e+04]]))"
            ]
          },
          "metadata": {},
          "execution_count": 76
        }
      ]
    }
  ]
}